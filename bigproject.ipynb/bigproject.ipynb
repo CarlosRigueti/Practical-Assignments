{
 "cells": [
  {
   "cell_type": "code",
   "execution_count": 452,
   "metadata": {},
   "outputs": [],
   "source": [
    "# Wind Speed Analysis Project Using Met Éireann Data\n",
    "\n",
    "# Step 1: Import Libraries and Load Data\n",
    "import pandas as pd\n",
    "import numpy as np\n",
    "import matplotlib.pyplot as plt\n",
    "import seaborn as sns"
   ]
  },
  {
   "cell_type": "markdown",
   "metadata": {},
   "source": [
    "## Basic Dataset Insights\n",
    "\n",
    "****"
   ]
  },
  {
   "cell_type": "markdown",
   "metadata": {},
   "source": [
    "### Load data.\n",
    "****"
   ]
  },
  {
   "cell_type": "code",
   "execution_count": 453,
   "metadata": {},
   "outputs": [
    {
     "name": "stdout",
     "output_type": "stream",
     "text": [
      "     2006  4  0   53.5   9.1  14  14.1\n",
      "0    2006  5  0  160.3  27.3  22    22\n",
      "1    2006  6  0   36.0  11.0   7     7\n",
      "2    2006  7  0   69.8  24.4  15    15\n",
      "3    2006  8  0   66.6  10.7  15    15\n",
      "4    2006  9  0  234.1  47.5  20    20\n",
      "..    ... .. ..    ...   ...  ..   ...\n",
      "202  2024  4  0   95.3  18.5  21    17\n",
      "203  2024  5  0   65.1  12.4  12     9\n",
      "204  2024  6  0   67.6  17.8  15    14\n",
      "205  2024  7  0   74.6  15.0  19    15\n",
      "206  2024  8  0  207.4  26.4  27    22\n",
      "\n",
      "[207 rows x 7 columns]\n"
     ]
    }
   ],
   "source": [
    "# Generate dataset information.\n",
    "df = pd.read_csv('mly2921.csv', skiprows=19)\n",
    "print (df)"
   ]
  },
  {
   "cell_type": "markdown",
   "metadata": {},
   "source": [
    "### Print Data\n",
    "****"
   ]
  },
  {
   "cell_type": "code",
   "execution_count": 454,
   "metadata": {},
   "outputs": [
    {
     "data": {
      "text/html": [
       "<div>\n",
       "<style scoped>\n",
       "    .dataframe tbody tr th:only-of-type {\n",
       "        vertical-align: middle;\n",
       "    }\n",
       "\n",
       "    .dataframe tbody tr th {\n",
       "        vertical-align: top;\n",
       "    }\n",
       "\n",
       "    .dataframe thead th {\n",
       "        text-align: right;\n",
       "    }\n",
       "</style>\n",
       "<table border=\"1\" class=\"dataframe\">\n",
       "  <thead>\n",
       "    <tr style=\"text-align: right;\">\n",
       "      <th></th>\n",
       "      <th>2006</th>\n",
       "      <th>4</th>\n",
       "      <th>0</th>\n",
       "      <th>53.5</th>\n",
       "      <th>9.1</th>\n",
       "      <th>14</th>\n",
       "      <th>14.1</th>\n",
       "    </tr>\n",
       "  </thead>\n",
       "  <tbody>\n",
       "    <tr>\n",
       "      <th>0</th>\n",
       "      <td>2006</td>\n",
       "      <td>5</td>\n",
       "      <td>0</td>\n",
       "      <td>160.3</td>\n",
       "      <td>27.3</td>\n",
       "      <td>22</td>\n",
       "      <td>22</td>\n",
       "    </tr>\n",
       "    <tr>\n",
       "      <th>1</th>\n",
       "      <td>2006</td>\n",
       "      <td>6</td>\n",
       "      <td>0</td>\n",
       "      <td>36.0</td>\n",
       "      <td>11.0</td>\n",
       "      <td>7</td>\n",
       "      <td>7</td>\n",
       "    </tr>\n",
       "    <tr>\n",
       "      <th>2</th>\n",
       "      <td>2006</td>\n",
       "      <td>7</td>\n",
       "      <td>0</td>\n",
       "      <td>69.8</td>\n",
       "      <td>24.4</td>\n",
       "      <td>15</td>\n",
       "      <td>15</td>\n",
       "    </tr>\n",
       "    <tr>\n",
       "      <th>3</th>\n",
       "      <td>2006</td>\n",
       "      <td>8</td>\n",
       "      <td>0</td>\n",
       "      <td>66.6</td>\n",
       "      <td>10.7</td>\n",
       "      <td>15</td>\n",
       "      <td>15</td>\n",
       "    </tr>\n",
       "    <tr>\n",
       "      <th>4</th>\n",
       "      <td>2006</td>\n",
       "      <td>9</td>\n",
       "      <td>0</td>\n",
       "      <td>234.1</td>\n",
       "      <td>47.5</td>\n",
       "      <td>20</td>\n",
       "      <td>20</td>\n",
       "    </tr>\n",
       "  </tbody>\n",
       "</table>\n",
       "</div>"
      ],
      "text/plain": [
       "   2006  4  0   53.5   9.1  14  14.1\n",
       "0  2006  5  0  160.3  27.3  22    22\n",
       "1  2006  6  0   36.0  11.0   7     7\n",
       "2  2006  7  0   69.8  24.4  15    15\n",
       "3  2006  8  0   66.6  10.7  15    15\n",
       "4  2006  9  0  234.1  47.5  20    20"
      ]
     },
     "execution_count": 454,
     "metadata": {},
     "output_type": "execute_result"
    }
   ],
   "source": [
    "# Generate a preview of the dataset.\n",
    "df.head()"
   ]
  },
  {
   "cell_type": "code",
   "execution_count": 455,
   "metadata": {},
   "outputs": [
    {
     "data": {
      "text/html": [
       "<div>\n",
       "<style scoped>\n",
       "    .dataframe tbody tr th:only-of-type {\n",
       "        vertical-align: middle;\n",
       "    }\n",
       "\n",
       "    .dataframe tbody tr th {\n",
       "        vertical-align: top;\n",
       "    }\n",
       "\n",
       "    .dataframe thead th {\n",
       "        text-align: right;\n",
       "    }\n",
       "</style>\n",
       "<table border=\"1\" class=\"dataframe\">\n",
       "  <thead>\n",
       "    <tr style=\"text-align: right;\">\n",
       "      <th></th>\n",
       "      <th>2006</th>\n",
       "      <th>4</th>\n",
       "      <th>0</th>\n",
       "      <th>53.5</th>\n",
       "      <th>9.1</th>\n",
       "      <th>14</th>\n",
       "      <th>14.1</th>\n",
       "    </tr>\n",
       "  </thead>\n",
       "  <tbody>\n",
       "    <tr>\n",
       "      <th>202</th>\n",
       "      <td>2024</td>\n",
       "      <td>4</td>\n",
       "      <td>0</td>\n",
       "      <td>95.3</td>\n",
       "      <td>18.5</td>\n",
       "      <td>21</td>\n",
       "      <td>17</td>\n",
       "    </tr>\n",
       "    <tr>\n",
       "      <th>203</th>\n",
       "      <td>2024</td>\n",
       "      <td>5</td>\n",
       "      <td>0</td>\n",
       "      <td>65.1</td>\n",
       "      <td>12.4</td>\n",
       "      <td>12</td>\n",
       "      <td>9</td>\n",
       "    </tr>\n",
       "    <tr>\n",
       "      <th>204</th>\n",
       "      <td>2024</td>\n",
       "      <td>6</td>\n",
       "      <td>0</td>\n",
       "      <td>67.6</td>\n",
       "      <td>17.8</td>\n",
       "      <td>15</td>\n",
       "      <td>14</td>\n",
       "    </tr>\n",
       "    <tr>\n",
       "      <th>205</th>\n",
       "      <td>2024</td>\n",
       "      <td>7</td>\n",
       "      <td>0</td>\n",
       "      <td>74.6</td>\n",
       "      <td>15.0</td>\n",
       "      <td>19</td>\n",
       "      <td>15</td>\n",
       "    </tr>\n",
       "    <tr>\n",
       "      <th>206</th>\n",
       "      <td>2024</td>\n",
       "      <td>8</td>\n",
       "      <td>0</td>\n",
       "      <td>207.4</td>\n",
       "      <td>26.4</td>\n",
       "      <td>27</td>\n",
       "      <td>22</td>\n",
       "    </tr>\n",
       "  </tbody>\n",
       "</table>\n",
       "</div>"
      ],
      "text/plain": [
       "     2006  4  0   53.5   9.1  14  14.1\n",
       "202  2024  4  0   95.3  18.5  21    17\n",
       "203  2024  5  0   65.1  12.4  12     9\n",
       "204  2024  6  0   67.6  17.8  15    14\n",
       "205  2024  7  0   74.6  15.0  19    15\n",
       "206  2024  8  0  207.4  26.4  27    22"
      ]
     },
     "execution_count": 455,
     "metadata": {},
     "output_type": "execute_result"
    }
   ],
   "source": [
    "# Generate the last 5 rows of the dataset.\n",
    "df.tail()"
   ]
  },
  {
   "cell_type": "code",
   "execution_count": 456,
   "metadata": {},
   "outputs": [
    {
     "name": "stdout",
     "output_type": "stream",
     "text": [
      "<class 'pandas.core.frame.DataFrame'>\n",
      "RangeIndex: 207 entries, 0 to 206\n",
      "Data columns (total 7 columns):\n",
      " #   Column  Non-Null Count  Dtype  \n",
      "---  ------  --------------  -----  \n",
      " 0   2006    207 non-null    int64  \n",
      " 1   4       207 non-null    int64  \n",
      " 2   0       207 non-null    int64  \n",
      " 3   53.5    207 non-null    float64\n",
      " 4   9.1     207 non-null    object \n",
      " 5   14      207 non-null    int64  \n",
      " 6   14.1    207 non-null    int64  \n",
      "dtypes: float64(1), int64(5), object(1)\n",
      "memory usage: 11.4+ KB\n"
     ]
    }
   ],
   "source": [
    "# Generate informations of the dataset.\n",
    "df.info()"
   ]
  },
  {
   "cell_type": "code",
   "execution_count": 457,
   "metadata": {},
   "outputs": [
    {
     "data": {
      "text/html": [
       "<div>\n",
       "<style scoped>\n",
       "    .dataframe tbody tr th:only-of-type {\n",
       "        vertical-align: middle;\n",
       "    }\n",
       "\n",
       "    .dataframe tbody tr th {\n",
       "        vertical-align: top;\n",
       "    }\n",
       "\n",
       "    .dataframe thead th {\n",
       "        text-align: right;\n",
       "    }\n",
       "</style>\n",
       "<table border=\"1\" class=\"dataframe\">\n",
       "  <thead>\n",
       "    <tr style=\"text-align: right;\">\n",
       "      <th></th>\n",
       "      <th>2006</th>\n",
       "      <th>4</th>\n",
       "      <th>0</th>\n",
       "      <th>53.5</th>\n",
       "      <th>14</th>\n",
       "      <th>14.1</th>\n",
       "    </tr>\n",
       "  </thead>\n",
       "  <tbody>\n",
       "    <tr>\n",
       "      <th>count</th>\n",
       "      <td>207.000000</td>\n",
       "      <td>207.000000</td>\n",
       "      <td>207.000000</td>\n",
       "      <td>207.000000</td>\n",
       "      <td>207.000000</td>\n",
       "      <td>207.000000</td>\n",
       "    </tr>\n",
       "    <tr>\n",
       "      <th>mean</th>\n",
       "      <td>2014.951691</td>\n",
       "      <td>6.473430</td>\n",
       "      <td>0.024155</td>\n",
       "      <td>131.940097</td>\n",
       "      <td>19.362319</td>\n",
       "      <td>16.695652</td>\n",
       "    </tr>\n",
       "    <tr>\n",
       "      <th>std</th>\n",
       "      <td>5.461923</td>\n",
       "      <td>3.410153</td>\n",
       "      <td>0.153901</td>\n",
       "      <td>67.863286</td>\n",
       "      <td>5.815040</td>\n",
       "      <td>5.941391</td>\n",
       "    </tr>\n",
       "    <tr>\n",
       "      <th>min</th>\n",
       "      <td>2006.000000</td>\n",
       "      <td>1.000000</td>\n",
       "      <td>0.000000</td>\n",
       "      <td>12.500000</td>\n",
       "      <td>5.000000</td>\n",
       "      <td>1.000000</td>\n",
       "    </tr>\n",
       "    <tr>\n",
       "      <th>25%</th>\n",
       "      <td>2010.000000</td>\n",
       "      <td>4.000000</td>\n",
       "      <td>0.000000</td>\n",
       "      <td>80.050000</td>\n",
       "      <td>15.000000</td>\n",
       "      <td>12.000000</td>\n",
       "    </tr>\n",
       "    <tr>\n",
       "      <th>50%</th>\n",
       "      <td>2015.000000</td>\n",
       "      <td>6.000000</td>\n",
       "      <td>0.000000</td>\n",
       "      <td>118.400000</td>\n",
       "      <td>19.000000</td>\n",
       "      <td>17.000000</td>\n",
       "    </tr>\n",
       "    <tr>\n",
       "      <th>75%</th>\n",
       "      <td>2020.000000</td>\n",
       "      <td>9.000000</td>\n",
       "      <td>0.000000</td>\n",
       "      <td>178.700000</td>\n",
       "      <td>24.500000</td>\n",
       "      <td>21.000000</td>\n",
       "    </tr>\n",
       "    <tr>\n",
       "      <th>max</th>\n",
       "      <td>2024.000000</td>\n",
       "      <td>12.000000</td>\n",
       "      <td>1.000000</td>\n",
       "      <td>366.300000</td>\n",
       "      <td>31.000000</td>\n",
       "      <td>31.000000</td>\n",
       "    </tr>\n",
       "  </tbody>\n",
       "</table>\n",
       "</div>"
      ],
      "text/plain": [
       "              2006           4           0        53.5          14        14.1\n",
       "count   207.000000  207.000000  207.000000  207.000000  207.000000  207.000000\n",
       "mean   2014.951691    6.473430    0.024155  131.940097   19.362319   16.695652\n",
       "std       5.461923    3.410153    0.153901   67.863286    5.815040    5.941391\n",
       "min    2006.000000    1.000000    0.000000   12.500000    5.000000    1.000000\n",
       "25%    2010.000000    4.000000    0.000000   80.050000   15.000000   12.000000\n",
       "50%    2015.000000    6.000000    0.000000  118.400000   19.000000   17.000000\n",
       "75%    2020.000000    9.000000    0.000000  178.700000   24.500000   21.000000\n",
       "max    2024.000000   12.000000    1.000000  366.300000   31.000000   31.000000"
      ]
     },
     "execution_count": 457,
     "metadata": {},
     "output_type": "execute_result"
    }
   ],
   "source": [
    "# Generate summary statistics for the dataset.\n",
    "df.describe()"
   ]
  },
  {
   "cell_type": "code",
   "execution_count": 458,
   "metadata": {},
   "outputs": [
    {
     "data": {
      "text/plain": [
       "2006    0\n",
       "4       0\n",
       "0       0\n",
       "53.5    0\n",
       "9.1     0\n",
       "14      0\n",
       "14.1    0\n",
       "dtype: int64"
      ]
     },
     "execution_count": 458,
     "metadata": {},
     "output_type": "execute_result"
    }
   ],
   "source": [
    "# Count the number of null.\n",
    "df.isnull().sum()"
   ]
  },
  {
   "cell_type": "markdown",
   "metadata": {},
   "source": [
    "### Shape of the Dataset\n",
    "\n",
    "****"
   ]
  },
  {
   "cell_type": "code",
   "execution_count": 459,
   "metadata": {},
   "outputs": [
    {
     "name": "stdout",
     "output_type": "stream",
     "text": [
      "Shape of the dataset: (207, 7)\n"
     ]
    }
   ],
   "source": [
    "# Display the dimensions of the dataset (rows and columns).\n",
    "print(\"Shape of the dataset:\", df.shape)"
   ]
  },
  {
   "cell_type": "markdown",
   "metadata": {},
   "source": [
    "### Column Names\n",
    "\n",
    "****"
   ]
  },
  {
   "cell_type": "code",
   "execution_count": 460,
   "metadata": {},
   "outputs": [
    {
     "name": "stdout",
     "output_type": "stream",
     "text": [
      "Columns in the dataset: ['2006', '4', '0', '53.5', '9.1', '14', '14.1']\n"
     ]
    }
   ],
   "source": [
    "# Display the column names of the dataset.\n",
    "print(\"Columns in the dataset:\", df.columns.tolist())"
   ]
  },
  {
   "cell_type": "markdown",
   "metadata": {},
   "source": [
    "### Unique Values in Each Column\n",
    "\n",
    "****"
   ]
  },
  {
   "cell_type": "code",
   "execution_count": 461,
   "metadata": {},
   "outputs": [
    {
     "name": "stdout",
     "output_type": "stream",
     "text": [
      "Unique values per column:\n",
      " 2006     19\n",
      "4        12\n",
      "0         2\n",
      "53.5    200\n",
      "9.1     146\n",
      "14       27\n",
      "14.1     28\n",
      "dtype: int64\n"
     ]
    }
   ],
   "source": [
    "# Display the number of unique values in each column.\n",
    "print(\"Unique values per column:\\n\", df.nunique())"
   ]
  },
  {
   "cell_type": "markdown",
   "metadata": {},
   "source": [
    "### Sum of Missing Values\n",
    "\n",
    "***"
   ]
  },
  {
   "cell_type": "code",
   "execution_count": 462,
   "metadata": {},
   "outputs": [
    {
     "name": "stdout",
     "output_type": "stream",
     "text": [
      "Total missing values in the dataset: 0\n"
     ]
    }
   ],
   "source": [
    "# Count and display the total number of missing values in the dataset.\n",
    "print(\"Total missing values in the dataset:\", df.isnull().sum().sum())"
   ]
  },
  {
   "cell_type": "markdown",
   "metadata": {},
   "source": [
    "### First Non-Null Entries\n",
    "***"
   ]
  },
  {
   "cell_type": "code",
   "execution_count": 463,
   "metadata": {},
   "outputs": [
    {
     "name": "stdout",
     "output_type": "stream",
     "text": [
      "First non-null values in each column:\n",
      " 2006    0\n",
      "4       0\n",
      "0       0\n",
      "53.5    0\n",
      "9.1     0\n",
      "14      0\n",
      "14.1    0\n",
      "dtype: int64\n"
     ]
    }
   ],
   "source": [
    "# Display the first non-null values in each column.\n",
    "print(\"First non-null values in each column:\\n\", df.apply(pd.Series.first_valid_index))"
   ]
  },
  {
   "cell_type": "code",
   "execution_count": 464,
   "metadata": {},
   "outputs": [],
   "source": [
    "## Statistical Insights"
   ]
  },
  {
   "cell_type": "markdown",
   "metadata": {},
   "source": [
    "### Column-Specific Summary\n",
    "\n",
    "***"
   ]
  },
  {
   "cell_type": "code",
   "execution_count": 465,
   "metadata": {},
   "outputs": [
    {
     "name": "stdout",
     "output_type": "stream",
     "text": [
      "Summary statistics for the 'Rainfall' column:\n",
      " count    207.000000\n",
      "mean     131.940097\n",
      "std       67.863286\n",
      "min       12.500000\n",
      "25%       80.050000\n",
      "50%      118.400000\n",
      "75%      178.700000\n",
      "max      366.300000\n",
      "Name: 53.5, dtype: float64\n"
     ]
    }
   ],
   "source": [
    "# Display summary statistics for a specific column.\n",
    "print(\"Summary statistics for the 'Rainfall' column:\\n\", df['53.5'].describe())\n"
   ]
  },
  {
   "cell_type": "markdown",
   "metadata": {},
   "source": [
    "### Maximum and Minimum Values\n",
    "\n",
    "***\n",
    "\n",
    "\n"
   ]
  },
  {
   "cell_type": "code",
   "execution_count": 466,
   "metadata": {},
   "outputs": [
    {
     "name": "stdout",
     "output_type": "stream",
     "text": [
      "Maximum values:\n",
      " 2006     2024\n",
      "4          12\n",
      "0           1\n",
      "53.5    366.3\n",
      "9.1       9.4\n",
      "14         31\n",
      "14.1       31\n",
      "dtype: object\n",
      "Minimum values:\n",
      " 2006    2006\n",
      "4          1\n",
      "0          0\n",
      "53.5    12.5\n",
      "9.1         \n",
      "14         5\n",
      "14.1       1\n",
      "dtype: object\n"
     ]
    }
   ],
   "source": [
    "# Display the maximum and minimum values for each column.\n",
    "print(\"Maximum values:\\n\", df.max())\n",
    "print(\"Minimum values:\\n\", df.min())"
   ]
  },
  {
   "cell_type": "markdown",
   "metadata": {},
   "source": [
    "### Heatmap for Missing Values\n",
    "\n",
    "***"
   ]
  },
  {
   "cell_type": "code",
   "execution_count": 467,
   "metadata": {},
   "outputs": [
    {
     "data": {
      "image/png": "[encoded data removed]",
      "text/plain": [
       "<Figure size 800x600 with 1 Axes>"
      ]
     },
     "metadata": {},
     "output_type": "display_data"
    }
   ],
   "source": [
    "# Plot a histogram for the 'Rainfall' column with a single color.\n",
    "df['53.5'].hist(bins=20, figsize=(8, 6), color='skyblue')\n",
    "\n",
    "# Add titles and labels.\n",
    "plt.title(\"Rainfall Distribution\", fontsize=14)\n",
    "plt.xlabel(\"Rainfall (mm)\", fontsize=12)\n",
    "plt.ylabel(\"Frequency\", fontsize=12)\n",
    "plt.show()"
   ]
  },
  {
   "cell_type": "markdown",
   "metadata": {},
   "source": [
    "### Boxplot of a Column\n",
    "\n",
    "****"
   ]
  },
  {
   "cell_type": "code",
   "execution_count": 468,
   "metadata": {},
   "outputs": [
    {
     "data": {
      "image/png": "[encoded data removed]",
      "text/plain": [
       "<Figure size 640x480 with 1 Axes>"
      ]
     },
     "metadata": {},
     "output_type": "display_data"
    }
   ],
   "source": [
    "# Plot a boxplot for the 'Rainfall' column with a single color.\n",
    "sns.boxplot(x=df['53.5'], color='skyblue')\n",
    "\n",
    "# Add the title and show the plot.\n",
    "plt.title(\"Boxplot of Rainfall\", fontsize=14)\n",
    "plt.show()"
   ]
  },
  {
   "cell_type": "markdown",
   "metadata": {},
   "source": [
    "### Line Plot of a Time Series\n",
    "***"
   ]
  },
  {
   "cell_type": "code",
   "execution_count": 469,
   "metadata": {},
   "outputs": [
    {
     "data": {
      "image/png": "[encoded data removed]",
      "text/plain": [
       "<Figure size 640x480 with 1 Axes>"
      ]
     },
     "metadata": {},
     "output_type": "display_data"
    }
   ],
   "source": [
    "# Plot a line graph to visualize yearly rainfall with 'skyblue' color.\n",
    "plt.plot(df['2006'], df['53.5'], color='skyblue')\n",
    "\n",
    "# Add the title and labels.\n",
    "plt.title(\"Yearly Rainfall Trend\", fontsize=14)\n",
    "plt.xlabel(\"Year\", fontsize=12)\n",
    "plt.ylabel(\"Rainfall (mm)\", fontsize=12)\n",
    "\n",
    "# Show the plot.\n",
    "plt.show()"
   ]
  },
  {
   "cell_type": "markdown",
   "metadata": {},
   "source": [
    "### Correlation Matrix Heatmap\n",
    "\n",
    "***"
   ]
  },
  {
   "cell_type": "code",
   "execution_count": 470,
   "metadata": {},
   "outputs": [
    {
     "name": "stdout",
     "output_type": "stream",
     "text": [
      "Converted dataset:\n",
      "    2006  4  0   53.5   9.1  14  14.1\n",
      "0  2006  5  0  160.3  27.3  22    22\n",
      "1  2006  6  0   36.0  11.0   7     7\n",
      "2  2006  7  0   69.8  24.4  15    15\n",
      "3  2006  8  0   66.6  10.7  15    15\n",
      "4  2006  9  0  234.1  47.5  20    20\n",
      "Correlation Matrix:\n",
      "           2006         4         0      53.5       9.1        14      14.1\n",
      "2006  1.000000 -0.074086 -0.177627  0.144613  0.028439  0.109070 -0.046828\n",
      "4    -0.074086  1.000000  0.098348  0.267327  0.247305  0.202078  0.183725\n",
      "0    -0.177627  0.098348  1.000000 -0.039507  0.094873 -0.042372  0.008079\n",
      "53.5  0.144613  0.267327 -0.039507  1.000000  0.707458  0.767328  0.788388\n",
      "9.1   0.028439  0.247305  0.094873  0.707458  1.000000  0.430207  0.437307\n",
      "14    0.109070  0.202078 -0.042372  0.767328  0.430207  1.000000  0.909043\n",
      "14.1 -0.046828  0.183725  0.008079  0.788388  0.437307  0.909043  1.000000\n"
     ]
    },
    {
     "data": {
      "image/png": "[encoded data removed]",
      "text/plain": [
       "<Figure size 1000x800 with 2 Axes>"
      ]
     },
     "metadata": {},
     "output_type": "display_data"
    }
   ],
   "source": [
    "# Convert columns to numeric, replacing errors with NaN\n",
    "df_numeric = df.apply(pd.to_numeric, errors='coerce')\n",
    "\n",
    "# Check if conversion worked and print the first few rows\n",
    "print(\"Converted dataset:\\n\", df_numeric.head())\n",
    "\n",
    "# Compute the correlation matrix for numerical columns\n",
    "correlation_matrix = df_numeric.corr()\n",
    "\n",
    "# Display the correlation matrix\n",
    "print(\"Correlation Matrix:\\n\", correlation_matrix)\n",
    "\n",
    "# Visualize the correlation matrix using a heatmap\n",
    "plt.figure(figsize=(10, 8))\n",
    "sns.heatmap(correlation_matrix, annot=True, cmap='coolwarm', fmt=\".2f\", linewidths=0.5)\n",
    "\n",
    "# Add title and labels\n",
    "plt.title(\"Correlation Matrix Heatmap\", fontsize=16)\n",
    "plt.xlabel(\"Features\", fontsize=12)\n",
    "plt.ylabel(\"Features\", fontsize=12)\n",
    "\n",
    "# Show the plot\n",
    "plt.show()\n"
   ]
  },
  {
   "cell_type": "markdown",
   "metadata": {},
   "source": [
    "## Additional Insights\n",
    "****"
   ]
  },
  {
   "cell_type": "markdown",
   "metadata": {},
   "source": [
    "### Check for Duplicates\n",
    "\n",
    "***"
   ]
  },
  {
   "cell_type": "code",
   "execution_count": 471,
   "metadata": {},
   "outputs": [
    {
     "name": "stdout",
     "output_type": "stream",
     "text": [
      "Number of duplicate rows: 0\n"
     ]
    }
   ],
   "source": [
    "# Check if there are any duplicate rows in the dataset.\n",
    "print(\"Number of duplicate rows:\", df.duplicated().sum())"
   ]
  },
  {
   "cell_type": "markdown",
   "metadata": {},
   "source": [
    "### Memory Usage\n",
    "***"
   ]
  },
  {
   "cell_type": "code",
   "execution_count": 472,
   "metadata": {},
   "outputs": [
    {
     "name": "stdout",
     "output_type": "stream",
     "text": [
      "Memory usage of the dataset:\n",
      " Index      128\n",
      "2006      1656\n",
      "4         1656\n",
      "0         1656\n",
      "53.5      1656\n",
      "9.1      12611\n",
      "14        1656\n",
      "14.1      1656\n",
      "dtype: int64\n"
     ]
    }
   ],
   "source": [
    "# Display the memory usage of the dataset.\n",
    "print(\"Memory usage of the dataset:\\n\", df.memory_usage(deep=True))"
   ]
  },
  {
   "cell_type": "markdown",
   "metadata": {},
   "source": [
    "### Convert Column Names for Readability\n",
    "\n",
    "***"
   ]
  },
  {
   "cell_type": "code",
   "execution_count": 473,
   "metadata": {},
   "outputs": [
    {
     "name": "stdout",
     "output_type": "stream",
     "text": [
      "Renamed columns:\n",
      " Index(['Year', 'Month', 'Indicator', 'Rainfall', 'Temperature', 'RainDays',\n",
      "       'WetDays'],\n",
      "      dtype='object')\n"
     ]
    }
   ],
   "source": [
    "# Convert column names to more readable ones.\n",
    "df.columns = ['Year', 'Month', 'Indicator', 'Rainfall', 'Temperature', 'RainDays', 'WetDays']\n",
    "print(\"Renamed columns:\\n\", df.columns)"
   ]
  }
 ],
 "metadata": {
  "kernelspec": {
   "display_name": "Python 3",
   "language": "python",
   "name": "python3"
  },
  "language_info": {
   "codemirror_mode": {
    "name": "ipython",
    "version": 3
   },
   "file_extension": ".py",
   "mimetype": "text/x-python",
   "name": "python",
   "nbconvert_exporter": "python",
   "pygments_lexer": "ipython3",
   "version": "3.9.6"
  }
 },
 "nbformat": 4,
 "nbformat_minor": 2
}
