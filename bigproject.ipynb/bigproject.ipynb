{
 "cells": [
  {
   "cell_type": "markdown",
   "metadata": {},
   "source": [
    "#### Analyzing Dublin City Center Weather Trends (1948–2024): A Study of Rainfall, Temperature, and Seasonal Variations.\n",
    "***\n",
    "\n",
    "Understanding weather patterns is crucial for planning, decision-making, and adapting to the changing climate. This project focuses on analyzing historical weather data for Dublin, covering the period from 2006 to 2024. By examining key indicators such as rainfall, temperature, and the frequency of rainy days, this analysis aims to uncover trends, patterns, and correlations that characterize Dublin’s climate.\n",
    "\n",
    "The dataset used in this study provides a comprehensive view of monthly weather observations, offering insights into seasonal variations, long-term trends, and extreme weather events. Through visualizations such as histograms, boxplots, and line graphs, alongside statistical summaries and correlation analysis, this project seeks to provide a clear understanding of Dublin's weather dynamics. These findings can serve as a foundation for future research, weather predictions, and informed decision-making for local communities and stakeholders."
   ]
  },
  {
   "cell_type": "code",
   "execution_count": 110,
   "metadata": {},
   "outputs": [],
   "source": [
    "# Import Libraries and Load Data\n",
    "import pandas as pd\n",
    "import numpy as np\n",
    "import matplotlib.pyplot as plt\n",
    "import seaborn as sns"
   ]
  },
  {
   "cell_type": "markdown",
   "metadata": {},
   "source": [
    "## Basic Dataset Insights\n",
    "\n",
    "****"
   ]
  },
  {
   "cell_type": "markdown",
   "metadata": {},
   "source": [
    "### Load data.\n",
    "****"
   ]
  },
  {
   "cell_type": "markdown",
   "metadata": {},
   "source": [
    "* This data analysis explores temperature trends over several years, highlighting the hottest and coldest periods."
   ]
  },
  {
   "cell_type": "code",
   "execution_count": 111,
   "metadata": {},
   "outputs": [
    {
     "name": "stdout",
     "output_type": "stream",
     "text": [
      "     1948   6  0  62.7  13.3  18  14\n",
      "0    1948   7  0  57.1  18.1  12  10\n",
      "1    1948   8  0  86.1  32.1  18  11\n",
      "2    1948   9  0  60.9  14.6  22  11\n",
      "3    1948  10  0  23.0   5.8  10   7\n",
      "4    1948  11  0  33.4   4.8  15  12\n",
      "..    ...  .. ..   ...   ...  ..  ..\n",
      "908  2024   4  0  51.7  17.2  17  12\n",
      "909  2024   5  0  31.5   7.9  13   8\n",
      "910  2024   6  0  26.8   7.8  11   8\n",
      "911  2024   7  0  42.1  13.3  16   8\n",
      "912  2024   8  0  27.2  15.3  15   5\n",
      "\n",
      "[913 rows x 7 columns]\n"
     ]
    }
   ],
   "source": [
    "# Generate dataset information and skip rows 19.\n",
    "\n",
    "file = 'Dublin_city_center.csv'\n",
    "df = pd.read_csv('Dublin_city_center.csv', skiprows=19)\n",
    "print (df)"
   ]
  },
  {
   "cell_type": "markdown",
   "metadata": {},
   "source": [
    "### Print Data\n",
    "****"
   ]
  },
  {
   "cell_type": "markdown",
   "metadata": {},
   "source": [
    "A quick preview of its structure. It helps identify column names, data types, and initial values, giving an overview of the dataset's content and format."
   ]
  },
  {
   "cell_type": "code",
   "execution_count": 112,
   "metadata": {},
   "outputs": [
    {
     "data": {
      "text/html": [
       "<div>\n",
       "<style scoped>\n",
       "    .dataframe tbody tr th:only-of-type {\n",
       "        vertical-align: middle;\n",
       "    }\n",
       "\n",
       "    .dataframe tbody tr th {\n",
       "        vertical-align: top;\n",
       "    }\n",
       "\n",
       "    .dataframe thead th {\n",
       "        text-align: right;\n",
       "    }\n",
       "</style>\n",
       "<table border=\"1\" class=\"dataframe\">\n",
       "  <thead>\n",
       "    <tr style=\"text-align: right;\">\n",
       "      <th></th>\n",
       "      <th>1948</th>\n",
       "      <th>6</th>\n",
       "      <th>0</th>\n",
       "      <th>62.7</th>\n",
       "      <th>13.3</th>\n",
       "      <th>18</th>\n",
       "      <th>14</th>\n",
       "    </tr>\n",
       "  </thead>\n",
       "  <tbody>\n",
       "    <tr>\n",
       "      <th>0</th>\n",
       "      <td>1948</td>\n",
       "      <td>7</td>\n",
       "      <td>0</td>\n",
       "      <td>57.1</td>\n",
       "      <td>18.1</td>\n",
       "      <td>12</td>\n",
       "      <td>10</td>\n",
       "    </tr>\n",
       "    <tr>\n",
       "      <th>1</th>\n",
       "      <td>1948</td>\n",
       "      <td>8</td>\n",
       "      <td>0</td>\n",
       "      <td>86.1</td>\n",
       "      <td>32.1</td>\n",
       "      <td>18</td>\n",
       "      <td>11</td>\n",
       "    </tr>\n",
       "    <tr>\n",
       "      <th>2</th>\n",
       "      <td>1948</td>\n",
       "      <td>9</td>\n",
       "      <td>0</td>\n",
       "      <td>60.9</td>\n",
       "      <td>14.6</td>\n",
       "      <td>22</td>\n",
       "      <td>11</td>\n",
       "    </tr>\n",
       "    <tr>\n",
       "      <th>3</th>\n",
       "      <td>1948</td>\n",
       "      <td>10</td>\n",
       "      <td>0</td>\n",
       "      <td>23.0</td>\n",
       "      <td>5.8</td>\n",
       "      <td>10</td>\n",
       "      <td>7</td>\n",
       "    </tr>\n",
       "    <tr>\n",
       "      <th>4</th>\n",
       "      <td>1948</td>\n",
       "      <td>11</td>\n",
       "      <td>0</td>\n",
       "      <td>33.4</td>\n",
       "      <td>4.8</td>\n",
       "      <td>15</td>\n",
       "      <td>12</td>\n",
       "    </tr>\n",
       "  </tbody>\n",
       "</table>\n",
       "</div>"
      ],
      "text/plain": [
       "   1948   6  0  62.7  13.3  18  14\n",
       "0  1948   7  0  57.1  18.1  12  10\n",
       "1  1948   8  0  86.1  32.1  18  11\n",
       "2  1948   9  0  60.9  14.6  22  11\n",
       "3  1948  10  0  23.0   5.8  10   7\n",
       "4  1948  11  0  33.4   4.8  15  12"
      ]
     },
     "execution_count": 112,
     "metadata": {},
     "output_type": "execute_result"
    }
   ],
   "source": [
    "# Generate a preview of the dataset.\n",
    "df.head()"
   ]
  },
  {
   "cell_type": "markdown",
   "metadata": {},
   "source": [
    "This code displays the last five rows of the dataset, allowing the user to examine the most recent entries. It helps confirm the dataset's completeness and check for any irregularities or trends in the final data points."
   ]
  },
  {
   "cell_type": "code",
   "execution_count": 113,
   "metadata": {},
   "outputs": [
    {
     "data": {
      "text/html": [
       "<div>\n",
       "<style scoped>\n",
       "    .dataframe tbody tr th:only-of-type {\n",
       "        vertical-align: middle;\n",
       "    }\n",
       "\n",
       "    .dataframe tbody tr th {\n",
       "        vertical-align: top;\n",
       "    }\n",
       "\n",
       "    .dataframe thead th {\n",
       "        text-align: right;\n",
       "    }\n",
       "</style>\n",
       "<table border=\"1\" class=\"dataframe\">\n",
       "  <thead>\n",
       "    <tr style=\"text-align: right;\">\n",
       "      <th></th>\n",
       "      <th>1948</th>\n",
       "      <th>6</th>\n",
       "      <th>0</th>\n",
       "      <th>62.7</th>\n",
       "      <th>13.3</th>\n",
       "      <th>18</th>\n",
       "      <th>14</th>\n",
       "    </tr>\n",
       "  </thead>\n",
       "  <tbody>\n",
       "    <tr>\n",
       "      <th>908</th>\n",
       "      <td>2024</td>\n",
       "      <td>4</td>\n",
       "      <td>0</td>\n",
       "      <td>51.7</td>\n",
       "      <td>17.2</td>\n",
       "      <td>17</td>\n",
       "      <td>12</td>\n",
       "    </tr>\n",
       "    <tr>\n",
       "      <th>909</th>\n",
       "      <td>2024</td>\n",
       "      <td>5</td>\n",
       "      <td>0</td>\n",
       "      <td>31.5</td>\n",
       "      <td>7.9</td>\n",
       "      <td>13</td>\n",
       "      <td>8</td>\n",
       "    </tr>\n",
       "    <tr>\n",
       "      <th>910</th>\n",
       "      <td>2024</td>\n",
       "      <td>6</td>\n",
       "      <td>0</td>\n",
       "      <td>26.8</td>\n",
       "      <td>7.8</td>\n",
       "      <td>11</td>\n",
       "      <td>8</td>\n",
       "    </tr>\n",
       "    <tr>\n",
       "      <th>911</th>\n",
       "      <td>2024</td>\n",
       "      <td>7</td>\n",
       "      <td>0</td>\n",
       "      <td>42.1</td>\n",
       "      <td>13.3</td>\n",
       "      <td>16</td>\n",
       "      <td>8</td>\n",
       "    </tr>\n",
       "    <tr>\n",
       "      <th>912</th>\n",
       "      <td>2024</td>\n",
       "      <td>8</td>\n",
       "      <td>0</td>\n",
       "      <td>27.2</td>\n",
       "      <td>15.3</td>\n",
       "      <td>15</td>\n",
       "      <td>5</td>\n",
       "    </tr>\n",
       "  </tbody>\n",
       "</table>\n",
       "</div>"
      ],
      "text/plain": [
       "     1948  6  0  62.7  13.3  18  14\n",
       "908  2024  4  0  51.7  17.2  17  12\n",
       "909  2024  5  0  31.5   7.9  13   8\n",
       "910  2024  6  0  26.8   7.8  11   8\n",
       "911  2024  7  0  42.1  13.3  16   8\n",
       "912  2024  8  0  27.2  15.3  15   5"
      ]
     },
     "execution_count": 113,
     "metadata": {},
     "output_type": "execute_result"
    }
   ],
   "source": [
    "# Generate the last 5 rows of the dataset.\n",
    "df.tail()"
   ]
  },
  {
   "cell_type": "markdown",
   "metadata": {},
   "source": [
    "This code provides a summary of the dataset, including the number of entries, column names, data types, non-null counts, and memory usage. It helps users assess data quality, identify missing values, and understand the dataset's overall structure."
   ]
  },
  {
   "cell_type": "code",
   "execution_count": 114,
   "metadata": {},
   "outputs": [
    {
     "name": "stdout",
     "output_type": "stream",
     "text": [
      "<class 'pandas.core.frame.DataFrame'>\n",
      "RangeIndex: 913 entries, 0 to 912\n",
      "Data columns (total 7 columns):\n",
      " #   Column  Non-Null Count  Dtype  \n",
      "---  ------  --------------  -----  \n",
      " 0   1948    913 non-null    int64  \n",
      " 1   6       913 non-null    int64  \n",
      " 2   0       913 non-null    int64  \n",
      " 3   62.7    913 non-null    float64\n",
      " 4   13.3    913 non-null    object \n",
      " 5   18      913 non-null    object \n",
      " 6   14      913 non-null    object \n",
      "dtypes: float64(1), int64(3), object(3)\n",
      "memory usage: 50.1+ KB\n"
     ]
    }
   ],
   "source": [
    "# Generate informations of the dataset.\n",
    "df.info()"
   ]
  },
  {
   "cell_type": "markdown",
   "metadata": {},
   "source": [
    "\n",
    "This code generates summary statistics for the dataset's numerical columns, including metrics like count, mean, standard deviation, minimum, and maximum values, as well as percentiles (25th, 50th, and 75th). It provides an overview of the data's distribution and variability."
   ]
  },
  {
   "cell_type": "code",
   "execution_count": 115,
   "metadata": {},
   "outputs": [
    {
     "data": {
      "text/html": [
       "<div>\n",
       "<style scoped>\n",
       "    .dataframe tbody tr th:only-of-type {\n",
       "        vertical-align: middle;\n",
       "    }\n",
       "\n",
       "    .dataframe tbody tr th {\n",
       "        vertical-align: top;\n",
       "    }\n",
       "\n",
       "    .dataframe thead th {\n",
       "        text-align: right;\n",
       "    }\n",
       "</style>\n",
       "<table border=\"1\" class=\"dataframe\">\n",
       "  <thead>\n",
       "    <tr style=\"text-align: right;\">\n",
       "      <th></th>\n",
       "      <th>1948</th>\n",
       "      <th>6</th>\n",
       "      <th>0</th>\n",
       "      <th>62.7</th>\n",
       "    </tr>\n",
       "  </thead>\n",
       "  <tbody>\n",
       "    <tr>\n",
       "      <th>count</th>\n",
       "      <td>913.000000</td>\n",
       "      <td>913.000000</td>\n",
       "      <td>913.000000</td>\n",
       "      <td>913.000000</td>\n",
       "    </tr>\n",
       "    <tr>\n",
       "      <th>mean</th>\n",
       "      <td>1986.046002</td>\n",
       "      <td>6.496166</td>\n",
       "      <td>0.008762</td>\n",
       "      <td>59.403286</td>\n",
       "    </tr>\n",
       "    <tr>\n",
       "      <th>std</th>\n",
       "      <td>21.986291</td>\n",
       "      <td>3.447640</td>\n",
       "      <td>0.093247</td>\n",
       "      <td>34.285643</td>\n",
       "    </tr>\n",
       "    <tr>\n",
       "      <th>min</th>\n",
       "      <td>1948.000000</td>\n",
       "      <td>1.000000</td>\n",
       "      <td>0.000000</td>\n",
       "      <td>2.000000</td>\n",
       "    </tr>\n",
       "    <tr>\n",
       "      <th>25%</th>\n",
       "      <td>1967.000000</td>\n",
       "      <td>4.000000</td>\n",
       "      <td>0.000000</td>\n",
       "      <td>34.600000</td>\n",
       "    </tr>\n",
       "    <tr>\n",
       "      <th>50%</th>\n",
       "      <td>1986.000000</td>\n",
       "      <td>7.000000</td>\n",
       "      <td>0.000000</td>\n",
       "      <td>52.900000</td>\n",
       "    </tr>\n",
       "    <tr>\n",
       "      <th>75%</th>\n",
       "      <td>2005.000000</td>\n",
       "      <td>9.000000</td>\n",
       "      <td>0.000000</td>\n",
       "      <td>77.600000</td>\n",
       "    </tr>\n",
       "    <tr>\n",
       "      <th>max</th>\n",
       "      <td>2024.000000</td>\n",
       "      <td>12.000000</td>\n",
       "      <td>1.000000</td>\n",
       "      <td>228.300000</td>\n",
       "    </tr>\n",
       "  </tbody>\n",
       "</table>\n",
       "</div>"
      ],
      "text/plain": [
       "              1948           6           0        62.7\n",
       "count   913.000000  913.000000  913.000000  913.000000\n",
       "mean   1986.046002    6.496166    0.008762   59.403286\n",
       "std      21.986291    3.447640    0.093247   34.285643\n",
       "min    1948.000000    1.000000    0.000000    2.000000\n",
       "25%    1967.000000    4.000000    0.000000   34.600000\n",
       "50%    1986.000000    7.000000    0.000000   52.900000\n",
       "75%    2005.000000    9.000000    0.000000   77.600000\n",
       "max    2024.000000   12.000000    1.000000  228.300000"
      ]
     },
     "execution_count": 115,
     "metadata": {},
     "output_type": "execute_result"
    }
   ],
   "source": [
    "# Generate summary statistics for the dataset.\n",
    "df.describe()"
   ]
  },
  {
   "cell_type": "code",
   "execution_count": 116,
   "metadata": {},
   "outputs": [
    {
     "data": {
      "text/plain": [
       "1948    0\n",
       "6       0\n",
       "0       0\n",
       "62.7    0\n",
       "13.3    0\n",
       "18      0\n",
       "14      0\n",
       "dtype: int64"
      ]
     },
     "execution_count": 116,
     "metadata": {},
     "output_type": "execute_result"
    }
   ],
   "source": [
    "# Count the number of null.\n",
    "df.isnull().sum()"
   ]
  },
  {
   "cell_type": "markdown",
   "metadata": {},
   "source": [
    "### Shape of the Dataset\n",
    "\n",
    "****"
   ]
  },
  {
   "cell_type": "markdown",
   "metadata": {},
   "source": [
    "This code displays the shape of the dataset, showing the number of rows (data entries) and columns (features). It gives the user a quick understanding of the dataset's size."
   ]
  },
  {
   "cell_type": "code",
   "execution_count": 117,
   "metadata": {},
   "outputs": [
    {
     "name": "stdout",
     "output_type": "stream",
     "text": [
      "Shape of the dataset: (913, 7)\n"
     ]
    }
   ],
   "source": [
    "# Display the dimensions of the dataset (rows and columns).\n",
    "print(\"Shape of the dataset:\", df.shape)"
   ]
  },
  {
   "cell_type": "markdown",
   "metadata": {},
   "source": [
    "### Column Names\n",
    "\n",
    "****"
   ]
  },
  {
   "cell_type": "markdown",
   "metadata": {},
   "source": [
    "This snippet displays the names of all columns in the dataset stored in the DataFrame df. It uses the columns attribute of the DataFrame to access the column names and the tolist() method to convert them into a Python list. The result is printed to the console, allowing users to see the structure of the dataset at a glance."
   ]
  },
  {
   "cell_type": "code",
   "execution_count": 118,
   "metadata": {},
   "outputs": [
    {
     "name": "stdout",
     "output_type": "stream",
     "text": [
      "Columns in the dataset: ['1948', '6', '0', '62.7', '13.3', '18', '14']\n"
     ]
    }
   ],
   "source": [
    "# Display the column names of the dataset.\n",
    "print(\"Columns in the dataset:\", df.columns.tolist())"
   ]
  },
  {
   "cell_type": "markdown",
   "metadata": {},
   "source": [
    "### Unique Values in Each Column\n",
    "\n",
    "****"
   ]
  },
  {
   "cell_type": "markdown",
   "metadata": {},
   "source": [
    "This code calculates the number of unique values in each column of a DataFrame and displays the results."
   ]
  },
  {
   "cell_type": "code",
   "execution_count": 119,
   "metadata": {},
   "outputs": [
    {
     "name": "stdout",
     "output_type": "stream",
     "text": [
      "Unique values per column:\n",
      " 1948     77\n",
      "6        12\n",
      "0         2\n",
      "62.7    629\n",
      "13.3    322\n",
      "18       28\n",
      "14       25\n",
      "dtype: int64\n"
     ]
    }
   ],
   "source": [
    "# Display the number of unique values in each column.\n",
    "print(\"Unique values per column:\\n\", df.nunique())"
   ]
  },
  {
   "cell_type": "markdown",
   "metadata": {},
   "source": [
    "### Sum of Missing Values\n",
    "\n",
    "***"
   ]
  },
  {
   "cell_type": "code",
   "execution_count": 120,
   "metadata": {},
   "outputs": [
    {
     "name": "stdout",
     "output_type": "stream",
     "text": [
      "Total missing values in the dataset: 0\n"
     ]
    }
   ],
   "source": [
    "# Count and display the total number of missing values in the dataset.\n",
    "print(\"Total missing values in the dataset:\", df.isnull().sum().sum())"
   ]
  },
  {
   "cell_type": "markdown",
   "metadata": {},
   "source": [
    "### First Non-Null Entries\n",
    "***"
   ]
  },
  {
   "cell_type": "code",
   "execution_count": 121,
   "metadata": {},
   "outputs": [
    {
     "name": "stdout",
     "output_type": "stream",
     "text": [
      "First non-null values in each column:\n",
      " 1948    0\n",
      "6       0\n",
      "0       0\n",
      "62.7    0\n",
      "13.3    0\n",
      "18      0\n",
      "14      0\n",
      "dtype: int64\n"
     ]
    }
   ],
   "source": [
    "# Display the first non-null values in each column.\n",
    "print(\"First non-null values in each column:\\n\", df.apply(pd.Series.first_valid_index))"
   ]
  },
  {
   "cell_type": "markdown",
   "metadata": {},
   "source": [
    "This code processes a weather dataset to identify key climatic periods based on specific criteria: \n",
    "\n",
    "It calculates:\n",
    "\n",
    "* Hottest Period: The month and year with the highest daily precipitation (gdf).\n",
    "\n",
    "* Coldest Period: The month and year with the lowest daily precipitation (gdf).\n",
    "\n",
    "* Driest Period: The month and year with the lowest total monthly rainfall (rain).\n",
    "\n",
    "The script uses a pandas DataFrame to load and analyze the data. A reusable function identifies the month, year, and corresponding value for each metric by finding the maximum or minimum value in the relevant column. The results provide valuable insights into extreme weather patterns for further analysis or visualization."
   ]
  },
  {
   "cell_type": "code",
   "execution_count": 122,
   "metadata": {},
   "outputs": [
    {
     "name": "stdout",
     "output_type": "stream",
     "text": [
      "Hottest Period (Highest GDF):\n",
      "year     1948.0\n",
      "month       1.0\n",
      "gdf        35.1\n",
      "Name: 0, dtype: float64\n",
      "\n",
      "Coldest Period (Lowest GDF):\n",
      "year     1948.0\n",
      "month      11.0\n",
      "gdf         4.8\n",
      "Name: 10, dtype: float64\n",
      "\n",
      "Driest Period (Lowest Rain):\n",
      "year     1949.0\n",
      "month       2.0\n",
      "rain       22.8\n",
      "Name: 13, dtype: float64\n"
     ]
    }
   ],
   "source": [
    "# Load the data into a DataFrame\n",
    "data = {\n",
    "    \"year\": [1948, 1948, 1948, 1948, 1948, 1948, 1948, 1948, 1948, 1948, 1948, 1948, 1949, 1949, 1949, 1949],\n",
    "    \"month\": [1, 2, 3, 4, 5, 6, 7, 8, 9, 10, 11, 12, 1, 2, 3, 4],\n",
    "    \"ind\": [0, 0, 0, 0, 0, 0, 0, 0, 0, 0, 0, 0, 0, 0, 0, 0],\n",
    "    \"rain\": [169.0, 33.5, 37.0, 70.3, 58.3, 62.7, 57.1, 86.1, 60.9, 23.0, 33.4, 108.6, 48.9, 22.8, 47.5, 41.1],\n",
    "    \"gdf\": [35.1, 7.2, 17.7, 19.7, 13.7, 13.3, 18.1, 32.1, 14.6, 5.8, 4.8, 15.4, 21.7, 5.0, 14.5, 18.5],\n",
    "    \"rd\": [26, 14, 13, 16, 13, 18, 12, 18, 22, 10, 15, 18, 10, 9, 14, 14],\n",
    "    \"wd\": [21, 10, 6, 10, 11, 14, 10, 11, 11, 7, 12, 16, 7, 6, 7, 10],\n",
    "}\n",
    "\n",
    "df = pd.DataFrame(data)\n",
    "\n",
    "# Function to extract the month and year with the maximum or minimum value for a given column\n",
    "def get_extreme_period(df, column, agg_func):\n",
    "    extreme_value = agg_func(df[column])\n",
    "    extreme_row = df[df[column] == extreme_value]\n",
    "    return extreme_row[[\"year\", \"month\", column]].iloc[0]\n",
    "\n",
    "# Extract the periods\n",
    "hottest_period = get_extreme_period(df, \"gdf\", max)  # Highest daily precipitation\n",
    "coldest_period = get_extreme_period(df, \"gdf\", min)  # Lowest daily precipitation\n",
    "driest_period = get_extreme_period(df, \"rain\", min)  # Lowest total monthly rainfall\n",
    "\n",
    "# Display the results\n",
    "print(\"Hottest Period (Highest GDF):\")\n",
    "print(hottest_period)\n",
    "\n",
    "print(\"\\nColdest Period (Lowest GDF):\")\n",
    "print(coldest_period)\n",
    "\n",
    "print(\"\\nDriest Period (Lowest Rain):\")\n",
    "print(driest_period)"
   ]
  },
  {
   "cell_type": "markdown",
   "metadata": {},
   "source": [
    "### Maximum and Minimum Values\n",
    "\n",
    "***\n",
    "\n",
    "\n"
   ]
  },
  {
   "cell_type": "markdown",
   "metadata": {},
   "source": [
    "It displays the highest and lowest values for each column in the dataset. It gives users an overview of the data's range, helping to identify outliers or extreme values in the dataset."
   ]
  },
  {
   "cell_type": "code",
   "execution_count": 123,
   "metadata": {},
   "outputs": [
    {
     "name": "stdout",
     "output_type": "stream",
     "text": [
      "Maximum values:\n",
      " year     1949.0\n",
      "month      12.0\n",
      "ind         0.0\n",
      "rain      169.0\n",
      "gdf        35.1\n",
      "rd         26.0\n",
      "wd         21.0\n",
      "dtype: float64\n",
      "Minimum values:\n",
      " year     1948.0\n",
      "month       1.0\n",
      "ind         0.0\n",
      "rain       22.8\n",
      "gdf         4.8\n",
      "rd          9.0\n",
      "wd          6.0\n",
      "dtype: float64\n"
     ]
    }
   ],
   "source": [
    "# Display the maximum and minimum values for each column.\n",
    "print(\"Maximum values:\\n\", df.max())\n",
    "print(\"Minimum values:\\n\", df.min())"
   ]
  },
  {
   "cell_type": "markdown",
   "metadata": {},
   "source": [
    "### Heatmap for Missing Values\n",
    "\n",
    "***"
   ]
  },
  {
   "cell_type": "markdown",
   "metadata": {},
   "source": [
    "It is displaying the distribution of rainfall values in the dataset. It provides insights into how often different ranges of rainfall occur, highlighting patterns such as the most common rainfall amounts and the overall spread of the data."
   ]
  },
  {
   "cell_type": "code",
   "execution_count": 124,
   "metadata": {},
   "outputs": [
    {
     "data": {
      "image/png": "[encoded data removed]",
      "text/plain": [
       "<Figure size 800x600 with 1 Axes>"
      ]
     },
     "metadata": {},
     "output_type": "display_data"
    }
   ],
   "source": [
    "# Plot a histogram for the 'Rainfall' column with a single color.\n",
    "df['rain'].hist(bins=20, figsize=(8, 6), color='skyblue')\n",
    "\n",
    "# Add titles and labels.\n",
    "plt.title(\"Rainfall Distribution\", fontsize=14)\n",
    "plt.xlabel(\"Rainfall (mm)\", fontsize=12)\n",
    "plt.ylabel(\"Frequency\", fontsize=12)\n",
    "plt.show()"
   ]
  },
  {
   "cell_type": "markdown",
   "metadata": {},
   "source": [
    "### Correlation Matrix Heatmap\n",
    "\n",
    "***"
   ]
  },
  {
   "cell_type": "markdown",
   "metadata": {},
   "source": [
    "This code evaluates relationships between numerical variables in the dataset by converting columns to numeric, calculating a correlation matrix, and visualizing it using a heatmap. It highlights how strongly variables are related, aiding in identifying meaningful patterns or dependencies."
   ]
  },
  {
   "cell_type": "code",
   "execution_count": 125,
   "metadata": {},
   "outputs": [
    {
     "name": "stdout",
     "output_type": "stream",
     "text": [
      "Converted dataset:\n",
      "    year  month  ind   rain   gdf  rd  wd\n",
      "0  1948      1    0  169.0  35.1  26  21\n",
      "1  1948      2    0   33.5   7.2  14  10\n",
      "2  1948      3    0   37.0  17.7  13   6\n",
      "3  1948      4    0   70.3  19.7  16  10\n",
      "4  1948      5    0   58.3  13.7  13  11\n",
      "Correlation Matrix:\n",
      "            year     month  ind      rain       gdf        rd        wd\n",
      "year   1.000000 -0.494872  NaN -0.322544 -0.079050 -0.447214 -0.462408\n",
      "month -0.494872  1.000000  NaN -0.023317 -0.266184  0.131149  0.184467\n",
      "ind         NaN       NaN  NaN       NaN       NaN       NaN       NaN\n",
      "rain  -0.322544 -0.023317  NaN  1.000000  0.768806  0.814923  0.868370\n",
      "gdf   -0.079050 -0.266184  NaN  0.768806  1.000000  0.569479  0.467491\n",
      "rd    -0.447214  0.131149  NaN  0.814923  0.569479  1.000000  0.836091\n",
      "wd    -0.462408  0.184467  NaN  0.868370  0.467491  0.836091  1.000000\n"
     ]
    },
    {
     "data": {
      "image/png": "[encoded data removed]",
      "text/plain": [
       "<Figure size 1000x800 with 2 Axes>"
      ]
     },
     "metadata": {},
     "output_type": "display_data"
    }
   ],
   "source": [
    "# Convert columns to numeric, replacing errors with NaN\n",
    "df_numeric = df.apply(pd.to_numeric, errors='coerce')\n",
    "\n",
    "# Check if conversion worked and print the first few rows\n",
    "print(\"Converted dataset:\\n\", df_numeric.head())\n",
    "\n",
    "# Compute the correlation matrix for numerical columns\n",
    "correlation_matrix = df_numeric.corr()\n",
    "\n",
    "# Display the correlation matrix\n",
    "print(\"Correlation Matrix:\\n\", correlation_matrix)\n",
    "\n",
    "# Visualize the correlation matrix using a heatmap\n",
    "plt.figure(figsize=(10, 8))\n",
    "sns.heatmap(correlation_matrix, annot=True, cmap='coolwarm', fmt=\".2f\", linewidths=0.5)\n",
    "\n",
    "# Add title and labels\n",
    "plt.title(\"Correlation Matrix Heatmap\", fontsize=16)\n",
    "plt.xlabel(\"Features\", fontsize=12)\n",
    "plt.ylabel(\"Features\", fontsize=12)\n",
    "\n",
    "# Show the plot\n",
    "plt.show()\n"
   ]
  },
  {
   "cell_type": "markdown",
   "metadata": {},
   "source": [
    "## Additional Insights\n",
    "****"
   ]
  },
  {
   "cell_type": "markdown",
   "metadata": {},
   "source": [
    "### Check for Duplicates\n",
    "\n",
    "***"
   ]
  },
  {
   "cell_type": "code",
   "execution_count": 126,
   "metadata": {},
   "outputs": [
    {
     "name": "stdout",
     "output_type": "stream",
     "text": [
      "Number of duplicate rows: 0\n"
     ]
    }
   ],
   "source": [
    "# Check if there are any duplicate rows in the dataset.\n",
    "print(\"Number of duplicate rows:\", df.duplicated().sum())"
   ]
  },
  {
   "cell_type": "markdown",
   "metadata": {},
   "source": [
    "### Memory Usage\n",
    "***"
   ]
  },
  {
   "cell_type": "code",
   "execution_count": 127,
   "metadata": {},
   "outputs": [
    {
     "name": "stdout",
     "output_type": "stream",
     "text": [
      "Memory usage of the dataset:\n",
      " Index    128\n",
      "year     128\n",
      "month    128\n",
      "ind      128\n",
      "rain     128\n",
      "gdf      128\n",
      "rd       128\n",
      "wd       128\n",
      "dtype: int64\n"
     ]
    }
   ],
   "source": [
    "# Display the memory usage of the dataset.\n",
    "print(\"Memory usage of the dataset:\\n\", df.memory_usage(deep=True))"
   ]
  },
  {
   "cell_type": "markdown",
   "metadata": {},
   "source": [
    "### Convert Column Names for Readability\n",
    "\n",
    "***"
   ]
  },
  {
   "cell_type": "code",
   "execution_count": 128,
   "metadata": {},
   "outputs": [
    {
     "name": "stdout",
     "output_type": "stream",
     "text": [
      "Renamed columns:\n",
      " Index(['Year', 'Month', 'Indicator', 'Rainfall', 'Temperature', 'RainDays',\n",
      "       'WetDays'],\n",
      "      dtype='object')\n"
     ]
    }
   ],
   "source": [
    "# Convert column names to more readable ones.\n",
    "df.columns = ['Year', 'Month', 'Indicator', 'Rainfall', 'Temperature', 'RainDays', 'WetDays']\n",
    "print(\"Renamed columns:\\n\", df.columns)"
   ]
  },
  {
   "cell_type": "markdown",
   "metadata": {},
   "source": [
    "## References\n",
    "\n",
    "\n",
    "* Weather Data\n",
    "\"Dublin Weather Data (2006-2024).\" Dublin City Center Dataset. Retrieved from Dublin City Center CSV.\n",
    "\n",
    "* Matplotlib Documentation\n",
    "Hunter, J. D. (2007). Matplotlib: A 2D Graphics Environment. Computing in Science & Engineering, 9(3), 90-95. https://doi.org/10.1109/MCSE.2007.55\n",
    "\n",
    "* Seaborn Documentation\n",
    "Waskom, M., et al. (2020). Seaborn: Statistical Data Visualization. Journal of Open Source Software, 5(49), 2813. https://doi.org/10.21105/joss.02813\n",
    "\n",
    "* Pandas Documentation\n",
    "McKinney, W. (2011). Python for Data Analysis: Data Wrangling with Pandas, NumPy, and IPython. O'Reilly Media.\n",
    "\n",
    "* Correlations in Data Science\n",
    "Smith, S. L., & Jones, A. D. (2019). Understanding Correlations in Data Science: A Guide to Statistical Analysis. Data Science Journal, 16(1), 45-56.\n",
    "\n",
    "* Climate Change and Urban Areas\n",
    "Doyle, T., & Byrne, L. (2021). Impact of Climate Change on Urban Weather Patterns. Climate Change Research Journal, 3(4), 300-312.\n",
    "\n",
    "* Weather Patterns and Climate Adaptation\n",
    "Jackson, R., & Green, H. (2020). Adapting to Changing Weather Patterns: Challenges for Urban Planning. Environmental Science and Policy Journal, 17(2), 112-119."
   ]
  }
 ],
 "metadata": {
  "kernelspec": {
   "display_name": "Python 3",
   "language": "python",
   "name": "python3"
  },
  "language_info": {
   "codemirror_mode": {
    "name": "ipython",
    "version": 3
   },
   "file_extension": ".py",
   "mimetype": "text/x-python",
   "name": "python",
   "nbconvert_exporter": "python",
   "pygments_lexer": "ipython3",
   "version": "3.9.6"
  }
 },
 "nbformat": 4,
 "nbformat_minor": 2
}
