{
 "cells": [
  {
   "cell_type": "code",
   "execution_count": 1,
   "metadata": {},
   "outputs": [],
   "source": [
    "# Wind Speed Analysis Project Using Met Éireann Data\n",
    "\n",
    "## Import Required Libraries\n",
    "import pandas as pd\n",
    "import numpy as np\n",
    "import matplotlib.pyplot as plt\n",
    "import seaborn as sns"
   ]
  },
  {
   "cell_type": "code",
   "execution_count": 2,
   "metadata": {},
   "outputs": [
    {
     "name": "stdout",
     "output_type": "stream",
     "text": [
      "     year  month  meant maxtp mintp  mnmax  mnmin  rain  gmin wdsp maxgt sun\n",
      "0    2004      1    5.6  13.8  -3.8    8.5    2.7  87.1  -8.9               \n",
      "1    2004      2    5.1  15.1  -4.9    9.1    1.1        -9.6               \n",
      "2    2004      3    6.8  16.9  -5.0   11.0    2.6  41.2  -9.2               \n",
      "3    2004      4    9.1  18.8   0.4   13.2    5.0  34.6  -3.6               \n",
      "4    2004      5   11.4  21.9   1.8   16.2    6.6  40.8  -2.5               \n",
      "..    ...    ...    ...   ...   ...    ...    ...   ...   ...  ...   ...  ..\n",
      "243  2024      7   15.3  23.2   7.9   19.7   11.0  49.9   3.1               \n",
      "244  2024      8   15.8  23.9   6.7   20.7   10.9  36.8   2.2               \n",
      "245  2024      9   12.8  22.6   2.2   17.0    8.5  59.2   0.2               \n",
      "246  2024     10   11.7  18.7   1.2   15.1    8.3  51.1  -0.6               \n",
      "247  2024     11    8.5  19.2  -2.4   11.3    5.6  57.1  -8.1               \n",
      "\n",
      "[248 rows x 12 columns]\n"
     ]
    }
   ],
   "source": [
    "# Read the Data\n",
    "# Adjust the file path to point to your Met Éireann wind speed data file.\n",
    "data = pd.read_csv(\"best_weather.csv\", skiprows=19)\n",
    "print (data)"
   ]
  }
 ],
 "metadata": {
  "kernelspec": {
   "display_name": "base",
   "language": "python",
   "name": "python3"
  },
  "language_info": {
   "codemirror_mode": {
    "name": "ipython",
    "version": 3
   },
   "file_extension": ".py",
   "mimetype": "text/x-python",
   "name": "python",
   "nbconvert_exporter": "python",
   "pygments_lexer": "ipython3",
   "version": "3.11.5"
  }
 },
 "nbformat": 4,
 "nbformat_minor": 2
}
