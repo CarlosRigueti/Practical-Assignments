{
 "cells": [
  {
   "cell_type": "markdown",
   "metadata": {},
   "source": [
    "## Assignment 3 - Domains"
   ]
  },
  {
   "cell_type": "markdown",
   "metadata": {},
   "source": [
    "In this task, I will create a Jupyter notebook named `assignment03-pie.ipynb` to generate a visually appealing pie chart. The goal is to analyze the email domain distribution of a dataset containing information about 1,000 individuals. This data is provided in a CSV file, which can be accessed via the following URL: [CSV File].\n",
    "\n",
    "The task involves extracting the domain from each email address, calculating the frequency of each domain, and presenting the results as a pie chart. The pie chart will visually represent the proportion of different email domains in the dataset, with each segment indicating the percentage of users associated with that domain.\n",
    "\n",
    "The resulting notebook will effectively and aesthetically showcase the analysis, presenting the findings in a clear and engaging manner. This analysis will help us understand the distribution of email services among users, which can be useful for various business and marketing decisions. \n",
    "\n",
    "By: Carlos Rigueti"
   ]
  },
  {
   "cell_type": "code",
   "execution_count": 46,
   "metadata": {},
   "outputs": [],
   "source": [
    "# Task 3: Visualizing Pie Chart\n",
    "\n",
    "# Developed by: Carlos Rigueti\n",
    "\n",
    "# Step 1: Import necessary libraries\n",
    "import pandas as pd\n",
    "import matplotlib.pyplot as plt\n",
    "import numpy as np\n",
    "import seaborn as sns"
   ]
  },
  {
   "cell_type": "code",
   "execution_count": 47,
   "metadata": {},
   "outputs": [
    {
     "name": "stdout",
     "output_type": "stream",
     "text": [
      "     Index          User Id First Name Last Name     Sex  \\\n",
      "0        1  8717bbf45cCDbEe     Shelia   Mahoney    Male   \n",
      "1        2  3d5AD30A4cD38ed         Jo    Rivers  Female   \n",
      "2        3  810Ce0F276Badec     Sheryl    Lowery  Female   \n",
      "3        4  BF2a889C00f0cE1    Whitney    Hooper    Male   \n",
      "4        5  9afFEafAe1CBBB9    Lindsey      Rice  Female   \n",
      "..     ...              ...        ...       ...     ...   \n",
      "995    996  fedF4c7Fd9e7cFa       Kurt    Bryant  Female   \n",
      "996    997  ECddaFEDdEc4FAB      Donna     Barry  Female   \n",
      "997    998  2adde51d8B8979E      Cathy  Mckinney  Female   \n",
      "998    999  Fb2FE369D1E171A   Jermaine    Phelps    Male   \n",
      "999   1000  8b756f6231DDC6e        Lee      Tran  Female   \n",
      "\n",
      "                             Email                  Phone Date of birth  \\\n",
      "0              pwarner@example.org           857.139.8239    2014-01-27   \n",
      "1    fergusonkatherine@example.net        +1-950-759-8687    1931-07-26   \n",
      "2              fhoward@example.org          (599)782-0605    2013-11-25   \n",
      "3            zjohnston@example.com        +1-939-130-6258    2012-11-17   \n",
      "4                 elin@example.net     (390)417-1635x3010    1923-04-15   \n",
      "..                             ...                    ...           ...   \n",
      "995         lyonsdaisy@example.net           021.775.2933    1959-01-05   \n",
      "996        dariusbryan@example.com   001-149-710-7799x721    2001-10-06   \n",
      "997         georgechan@example.org  +1-750-774-4128x33265    1918-05-13   \n",
      "998            wanda04@example.net          (915)292-2254    1971-08-31   \n",
      "999        deannablack@example.org     079.752.5424x67259    1947-01-24   \n",
      "\n",
      "                           Job Title       domain  \n",
      "0                  Probation officer  example.org  \n",
      "1                             Dancer  example.net  \n",
      "2                               Copy  example.org  \n",
      "3           Counselling psychologist  example.com  \n",
      "4                Biomedical engineer  example.net  \n",
      "..                               ...          ...  \n",
      "995                Personnel officer  example.net  \n",
      "996          Education administrator  example.com  \n",
      "997  Commercial/residential surveyor  example.org  \n",
      "998                 Ambulance person  example.net  \n",
      "999       Nurse, learning disability  example.org  \n",
      "\n",
      "[1000 rows x 10 columns]\n"
     ]
    }
   ],
   "source": [
    "# Step 2: Load the dataset\n",
    "people = pd.read_csv(\"people-1000.csv\")\n",
    "print (df)"
   ]
  },
  {
   "cell_type": "code",
   "execution_count": 48,
   "metadata": {},
   "outputs": [
    {
     "name": "stdout",
     "output_type": "stream",
     "text": [
      "<class 'pandas.core.frame.DataFrame'>\n",
      "RangeIndex: 1000 entries, 0 to 999\n",
      "Data columns (total 9 columns):\n",
      " #   Column         Non-Null Count  Dtype \n",
      "---  ------         --------------  ----- \n",
      " 0   Index          1000 non-null   int64 \n",
      " 1   User Id        1000 non-null   object\n",
      " 2   First Name     1000 non-null   object\n",
      " 3   Last Name      1000 non-null   object\n",
      " 4   Sex            1000 non-null   object\n",
      " 5   Email          1000 non-null   object\n",
      " 6   Phone          1000 non-null   object\n",
      " 7   Date of birth  1000 non-null   object\n",
      " 8   Job Title      1000 non-null   object\n",
      "dtypes: int64(1), object(8)\n",
      "memory usage: 70.4+ KB\n"
     ]
    }
   ],
   "source": [
    "# Step 3: Extract informations from dataset.\n",
    "people.info()"
   ]
  },
  {
   "cell_type": "code",
   "execution_count": 49,
   "metadata": {},
   "outputs": [
    {
     "data": {
      "text/html": [
       "<div>\n",
       "<style scoped>\n",
       "    .dataframe tbody tr th:only-of-type {\n",
       "        vertical-align: middle;\n",
       "    }\n",
       "\n",
       "    .dataframe tbody tr th {\n",
       "        vertical-align: top;\n",
       "    }\n",
       "\n",
       "    .dataframe thead th {\n",
       "        text-align: right;\n",
       "    }\n",
       "</style>\n",
       "<table border=\"1\" class=\"dataframe\">\n",
       "  <thead>\n",
       "    <tr style=\"text-align: right;\">\n",
       "      <th></th>\n",
       "      <th>Index</th>\n",
       "      <th>User Id</th>\n",
       "      <th>First Name</th>\n",
       "      <th>Last Name</th>\n",
       "      <th>Sex</th>\n",
       "      <th>Email</th>\n",
       "      <th>Phone</th>\n",
       "      <th>Date of birth</th>\n",
       "      <th>Job Title</th>\n",
       "    </tr>\n",
       "  </thead>\n",
       "  <tbody>\n",
       "    <tr>\n",
       "      <th>0</th>\n",
       "      <td>1</td>\n",
       "      <td>8717bbf45cCDbEe</td>\n",
       "      <td>Shelia</td>\n",
       "      <td>Mahoney</td>\n",
       "      <td>Male</td>\n",
       "      <td>pwarner@example.org</td>\n",
       "      <td>857.139.8239</td>\n",
       "      <td>2014-01-27</td>\n",
       "      <td>Probation officer</td>\n",
       "    </tr>\n",
       "    <tr>\n",
       "      <th>1</th>\n",
       "      <td>2</td>\n",
       "      <td>3d5AD30A4cD38ed</td>\n",
       "      <td>Jo</td>\n",
       "      <td>Rivers</td>\n",
       "      <td>Female</td>\n",
       "      <td>fergusonkatherine@example.net</td>\n",
       "      <td>+1-950-759-8687</td>\n",
       "      <td>1931-07-26</td>\n",
       "      <td>Dancer</td>\n",
       "    </tr>\n",
       "    <tr>\n",
       "      <th>2</th>\n",
       "      <td>3</td>\n",
       "      <td>810Ce0F276Badec</td>\n",
       "      <td>Sheryl</td>\n",
       "      <td>Lowery</td>\n",
       "      <td>Female</td>\n",
       "      <td>fhoward@example.org</td>\n",
       "      <td>(599)782-0605</td>\n",
       "      <td>2013-11-25</td>\n",
       "      <td>Copy</td>\n",
       "    </tr>\n",
       "    <tr>\n",
       "      <th>3</th>\n",
       "      <td>4</td>\n",
       "      <td>BF2a889C00f0cE1</td>\n",
       "      <td>Whitney</td>\n",
       "      <td>Hooper</td>\n",
       "      <td>Male</td>\n",
       "      <td>zjohnston@example.com</td>\n",
       "      <td>+1-939-130-6258</td>\n",
       "      <td>2012-11-17</td>\n",
       "      <td>Counselling psychologist</td>\n",
       "    </tr>\n",
       "    <tr>\n",
       "      <th>4</th>\n",
       "      <td>5</td>\n",
       "      <td>9afFEafAe1CBBB9</td>\n",
       "      <td>Lindsey</td>\n",
       "      <td>Rice</td>\n",
       "      <td>Female</td>\n",
       "      <td>elin@example.net</td>\n",
       "      <td>(390)417-1635x3010</td>\n",
       "      <td>1923-04-15</td>\n",
       "      <td>Biomedical engineer</td>\n",
       "    </tr>\n",
       "  </tbody>\n",
       "</table>\n",
       "</div>"
      ],
      "text/plain": [
       "   Index          User Id First Name Last Name     Sex  \\\n",
       "0      1  8717bbf45cCDbEe     Shelia   Mahoney    Male   \n",
       "1      2  3d5AD30A4cD38ed         Jo    Rivers  Female   \n",
       "2      3  810Ce0F276Badec     Sheryl    Lowery  Female   \n",
       "3      4  BF2a889C00f0cE1    Whitney    Hooper    Male   \n",
       "4      5  9afFEafAe1CBBB9    Lindsey      Rice  Female   \n",
       "\n",
       "                           Email               Phone Date of birth  \\\n",
       "0            pwarner@example.org        857.139.8239    2014-01-27   \n",
       "1  fergusonkatherine@example.net     +1-950-759-8687    1931-07-26   \n",
       "2            fhoward@example.org       (599)782-0605    2013-11-25   \n",
       "3          zjohnston@example.com     +1-939-130-6258    2012-11-17   \n",
       "4               elin@example.net  (390)417-1635x3010    1923-04-15   \n",
       "\n",
       "                  Job Title  \n",
       "0         Probation officer  \n",
       "1                    Dancer  \n",
       "2                      Copy  \n",
       "3  Counselling psychologist  \n",
       "4       Biomedical engineer  "
      ]
     },
     "execution_count": 49,
     "metadata": {},
     "output_type": "execute_result"
    }
   ],
   "source": [
    "# Step 4: Extract the email domains.\n",
    "df['domain'] = df['Email'].str.split('@').str[1] # [5]\n",
    "# Extract the first 5 rows of the dataset.\n",
    "people.head()"
   ]
  },
  {
   "cell_type": "code",
   "execution_count": 50,
   "metadata": {},
   "outputs": [
    {
     "name": "stdout",
     "output_type": "stream",
     "text": [
      "domain\n",
      "example.org    341\n",
      "example.com    339\n",
      "example.net    320\n",
      "Name: count, dtype: int64\n"
     ]
    }
   ],
   "source": [
    "# Step 5: Exctract the number of type of domanain:\n",
    "domain_types = df['domain'].value_counts()\n",
    "print (domain_types)"
   ]
  },
  {
   "cell_type": "code",
   "execution_count": 51,
   "metadata": {},
   "outputs": [
    {
     "data": {
      "image/png": "[encoded data removed]",
      "text/plain": [
       "<Figure size 1000x800 with 1 Axes>"
      ]
     },
     "metadata": {},
     "output_type": "display_data"
    }
   ],
   "source": [
    "# Step 6: Create the pie chart with enhanced graphics\n",
    "\n",
    "plt.figure(figsize=(10, 8))\n",
    "plt.pie(domain_types, autopct='%1.2f%%', colors=sns.color_palette(\"Set2\"), explode=[0.01] * len(domain_types))  # Different color palette (Set2)\n",
    "plt.legend(df['domain'].unique(), title=\"Domains\", loc=\"center left\", bbox_to_anchor=(1, 0, 0.5, 1))\n",
    "plt.title('People Email Domains', fontsize=16)\n",
    "plt.show()\n"
   ]
  },
  {
   "cell_type": "markdown",
   "metadata": {},
   "source": [
    "Reference:\n",
    "\n",
    "This set of references is designed to assist in creating a Jupyter notebook that visualizes email domain distributions using a pie chart.\n",
    "\n",
    "1. **Pandas Documentation** (link) offers comprehensive resources for data manipulation and analysis, particularly in handling CSV files, which is essential for processing email data in this task.\n",
    "\n",
    " * Pandas Documentation. Available at: https://pandas.pydata.org/pandas-docs/stable/.\n",
    "\n",
    "2. **Matplotlib Pie Chart Documentation** (link) provides detailed guidelines for creating and customizing pie charts, crucial for displaying email domain distribution clearly and effectively.\n",
    "\n",
    " * Matplotlib Pie Chart Documentation. Available at: https://matplotlib.org/stable/api/pyplot_api.html#matplotlib.pyplot.pie.\n",
    "\n",
    "3. **Seaborn Color Palettes** (link) aids in selecting aesthetically pleasing color schemes, enhancing the visual appeal of the pie chart and making the data easier to interpret.\n",
    "\n",
    " * Seaborn Color Palettes. Available at: https://seaborn.pydata.org/tutorial/color_palettes.html.\n",
    "\n",
    "4. **Reading CSV Files with Pandas** (link) explains how to load and manipulate CSV data using Pandas, which is vital for extracting relevant email domain information from the dataset.\n",
    "\n",
    " * Read CSV Files in Pandas. Available at: https://realpython.com/pandas-read-write-files/.\n",
    "\n",
    "5. **Extracting Email Domains from Strings** (link) outlines methods for extracting email domains from email addresses, an important step in the data processing phase.\n",
    "\n",
    " * Extract Email Domains from Strings. Available at: https://www.geeksforgeeks.org/python-extract-email-addresses-from-string/.\n",
    "\n",
    "6. **Creating Pie Charts with Matplotlib** (link) offers practical guidance on generating pie charts in Python, including how to customize the chart’s appearance, such as adding percentage labels and slice separation.\n",
    "\n",
    " * Creating Pie Charts with Matplotlib. Available at: https://realpython.com/python-pie-chart/.\n",
    "\n",
    "7. **Jupyter Notebooks Documentation** (link) helps users understand how to effectively utilize Jupyter Notebooks for organizing and presenting Python code in a clear format.\n",
    "\n",
    " * Jupyter Notebooks Documentation. Available at: https://jupyter.org/documentation.\n",
    "\n",
    "8. **GitHub Documentation** (link) is essential for version control, allowing users to manage their code, track changes, and share their work via GitHub repositories.\n",
    "\n",
    " * GitHub Documentation. Available at: https://docs.github.com/en/github."
   ]
  }
 ],
 "metadata": {
  "kernelspec": {
   "display_name": "Python 3",
   "language": "python",
   "name": "python3"
  },
  "language_info": {
   "codemirror_mode": {
    "name": "ipython",
    "version": 3
   },
   "file_extension": ".py",
   "mimetype": "text/x-python",
   "name": "python",
   "nbconvert_exporter": "python",
   "pygments_lexer": "ipython3",
   "version": "3.9.6"
  }
 },
 "nbformat": 4,
 "nbformat_minor": 2
}
